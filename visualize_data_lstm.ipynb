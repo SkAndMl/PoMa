{
 "cells": [
  {
   "cell_type": "code",
   "execution_count": 1,
   "id": "4d3d3e73",
   "metadata": {},
   "outputs": [],
   "source": [
    "llama_path = \"/Users/ashwathsreeram/Desktop/Llama_model/Llama3.2-1B\""
   ]
  },
  {
   "cell_type": "code",
   "execution_count": 2,
   "id": "7e991604",
   "metadata": {},
   "outputs": [
    {
     "name": "stderr",
     "output_type": "stream",
     "text": [
      "/Users/ashwathsreeram/miniconda3/envs/workspace/lib/python3.11/site-packages/tqdm/auto.py:21: TqdmWarning: IProgress not found. Please update jupyter and ipywidgets. See https://ipywidgets.readthedocs.io/en/stable/user_install.html\n",
      "  from .autonotebook import tqdm as notebook_tqdm\n"
     ]
    }
   ],
   "source": [
    "from data import *\n",
    "import random"
   ]
  },
  {
   "cell_type": "code",
   "execution_count": 4,
   "id": "df91220b",
   "metadata": {},
   "outputs": [],
   "source": [
    "from tokenizer import Tokenizer\n",
    "few_shot_examples = [\n",
    "        {\n",
    "            \"source\": \"Ich gehe morgen ins Kino.\", \n",
    "            \"target\": \"I am going to the cinema tomorrow.\"\n",
    "        },\n",
    "        {\n",
    "            \"source\": \"Er ist ein sehr guter Koch.\", \n",
    "            \"target\": \"He is a very good cook.\"\n",
    "        },\n",
    "        \n",
    "    ]\n",
    "    "
   ]
  },
  {
   "cell_type": "code",
   "execution_count": 6,
   "id": "6a86ae64",
   "metadata": {},
   "outputs": [],
   "source": [
    "tokenizer = Tokenizer(model_path=f\"{llama_path}/tokenizer.model\")\n",
    "ds = TranslationDataset(\n",
    "        dataset_hf_id=\"de-en\",\n",
    "        source_lang=\"de\",\n",
    "        target_lang = \"en\",\n",
    "        split = \"validation\",\n",
    "        tokenizer=tokenizer,\n",
    "        few_shot_examples=few_shot_examples, \n",
    "        max_seq_len = -1,\n",
    "    )"
   ]
  },
  {
   "cell_type": "code",
   "execution_count": 19,
   "id": "e8fa3a0b",
   "metadata": {},
   "outputs": [
    {
     "name": "stdout",
     "output_type": "stream",
     "text": [
      "<|begin_of_text|>Translate from de to en\n",
      "de: Ich gehe morgen ins Kino.; en: I am going to the cinema tomorrow.\n",
      "de: Er ist ein sehr guter Koch.; en: He is a very good cook.\n",
      "de: Im Jahr 1995 besetzte ich einen Raum in der Puschkinskaja 10, und dort gab es bis zu den Renovierungsarbeiten einen musikalisch-künstlerischen Klub für die Boheme, das Haus der Petersburger Boheme.; en: In 1995, I occupied the territory on Pushkinskaya-10, and while the renovation work had not started, there was a musical and creative club, a Bohemian club, the house of the St. Petersburg Bohemia.\n"
     ]
    }
   ],
   "source": [
    "print(tokenizer.decode(ds[random.randint(0, 1000)][0]))"
   ]
  },
  {
   "cell_type": "code",
   "execution_count": 22,
   "id": "47102406",
   "metadata": {},
   "outputs": [],
   "source": [
    "random_idx = random.randint(0, 1000)\n",
    "dl = DataLoader(ds, 6, tokenizer, k = 3)"
   ]
  },
  {
   "cell_type": "code",
   "execution_count": 23,
   "id": "f61ce054",
   "metadata": {},
   "outputs": [
    {
     "name": "stdout",
     "output_type": "stream",
     "text": [
      "Sample Context: <|begin_of_text|>Translate from de to en\n",
      "de: Ich gehe morgen ins Kino.; en: I am going to the cinema tomorrow.\n",
      "de: Er ist ein sehr guter Koch.; en: He is a very good cook.\n",
      "de: Allerdings hält das Brennan Center letzteres für einen Mythos, indem es bekräftigt, dass der Wahlbetrug in den USA seltener ist als die Anzahl der vom Blitzschlag getöteten Menschen.; en: \n",
      "Sample Target: However, the\n"
     ]
    }
   ],
   "source": [
    "batch, pos = next(iter(dl))\n",
    "print(f\"Sample Context: {tokenizer.decode(batch[2][:pos].tolist())}\")\n",
    "print(f\"Sample Target: {tokenizer.decode(batch[2][pos:].tolist())}\")"
   ]
  },
  {
   "cell_type": "code",
   "execution_count": 25,
   "id": "bd55553e",
   "metadata": {},
   "outputs": [
    {
     "name": "stdout",
     "output_type": "stream",
     "text": [
      "Sample Context: <|begin_of_text|>Translate from de to en\n",
      "de: Ich gehe morgen ins Kino.; en: I am going to the cinema tomorrow.\n",
      "de: Er ist ein sehr guter Koch.; en: He is a very good cook.\n",
      "de: Die Führungskräfte der Republikaner rechtfertigen ihre Politik mit der Notwendigkeit, den Wahlbetrug zu bekämpfen.; en: <|eot_id|><|eot_id|><|eot_id|><|eot_id|><|eot_id|><|eot_id|><|eot_id|><|eot_id|><|eot_id|><|eot_id|><|eot_id|><|eot_id|>\n",
      "Sample Target: Republican leaders justified\n"
     ]
    }
   ],
   "source": [
    "print(f\"Sample Context: {tokenizer.decode(batch[1][:pos].tolist())}\")\n",
    "print(f\"Sample Target: {tokenizer.decode(batch[1][pos:].tolist())}\")"
   ]
  },
  {
   "cell_type": "code",
   "execution_count": null,
   "id": "c4085311",
   "metadata": {},
   "outputs": [],
   "source": []
  }
 ],
 "metadata": {
  "kernelspec": {
   "display_name": "workspace",
   "language": "python",
   "name": "python3"
  },
  "language_info": {
   "codemirror_mode": {
    "name": "ipython",
    "version": 3
   },
   "file_extension": ".py",
   "mimetype": "text/x-python",
   "name": "python",
   "nbconvert_exporter": "python",
   "pygments_lexer": "ipython3",
   "version": "3.11.11"
  }
 },
 "nbformat": 4,
 "nbformat_minor": 5
}
