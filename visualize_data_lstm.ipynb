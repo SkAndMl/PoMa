{
 "cells": [
  {
   "cell_type": "code",
   "execution_count": 1,
   "id": "4d3d3e73",
   "metadata": {},
   "outputs": [],
   "source": [
    "llama_path = \"/Users/ashwathsreeram/Desktop/Llama_model/Llama3.2-1B\""
   ]
  },
  {
   "cell_type": "code",
   "execution_count": 2,
   "id": "7e991604",
   "metadata": {},
   "outputs": [
    {
     "name": "stderr",
     "output_type": "stream",
     "text": [
      "/Users/ashwathsreeram/miniconda3/envs/workspace/lib/python3.11/site-packages/tqdm/auto.py:21: TqdmWarning: IProgress not found. Please update jupyter and ipywidgets. See https://ipywidgets.readthedocs.io/en/stable/user_install.html\n",
      "  from .autonotebook import tqdm as notebook_tqdm\n"
     ]
    }
   ],
   "source": [
    "from data import *\n",
    "import random"
   ]
  },
  {
   "cell_type": "code",
   "execution_count": 3,
   "id": "df91220b",
   "metadata": {},
   "outputs": [],
   "source": [
    "from tokenizer import Tokenizer\n",
    "few_shot_examples = [\n",
    "        {\n",
    "            \"source\": \"Ich gehe morgen ins Kino.\", \n",
    "            \"target\": \"I am going to the cinema tomorrow.\"\n",
    "        },\n",
    "        {\n",
    "            \"source\": \"Er ist ein sehr guter Koch.\", \n",
    "            \"target\": \"He is a very good cook.\"\n",
    "        },\n",
    "        \n",
    "    ]\n",
    "    "
   ]
  },
  {
   "cell_type": "code",
   "execution_count": 6,
   "id": "6a86ae64",
   "metadata": {},
   "outputs": [],
   "source": [
    "tokenizer = Tokenizer(model_path=f\"{llama_path}/tokenizer.model\")\n",
    "ds = TranslationDataset(\n",
    "        dataset_hf_id=\"de-en\",\n",
    "        source_lang=\"de\",\n",
    "        target_lang = \"en\",\n",
    "        split = \"train\",\n",
    "        tokenizer=tokenizer,\n",
    "        few_shot_examples=few_shot_examples, \n",
    "        max_seq_len = -1,\n",
    "        num_instances= 10000,\n",
    "        k = 3\n",
    "    )"
   ]
  },
  {
   "cell_type": "code",
   "execution_count": 7,
   "id": "e8fa3a0b",
   "metadata": {},
   "outputs": [
    {
     "name": "stdout",
     "output_type": "stream",
     "text": [
      "<|begin_of_text|>Translate from de to en\n",
      "de: Ich gehe morgen ins Kino.; en: I am going to the cinema tomorrow.\n",
      "de: Er ist ein sehr guter Koch.; en: He is a very good cook.\n",
      "de: Bei einem der großen Unfälle in jüngster Zeit war nicht die Ladung an sich gefährlich.; en: In one of the worst accidents to have occurred recently, the goods being transported were not dangerous in themselves.<|end_of_text|>\n"
     ]
    }
   ],
   "source": [
    "print(tokenizer.decode(ds[random.randint(0, 1000)][0]))"
   ]
  },
  {
   "cell_type": "code",
   "execution_count": 8,
   "id": "47102406",
   "metadata": {},
   "outputs": [],
   "source": [
    "dl = DataLoader(ds, 10, tokenizer, k = 3)"
   ]
  },
  {
   "cell_type": "code",
   "execution_count": 9,
   "id": "f61ce054",
   "metadata": {},
   "outputs": [
    {
     "name": "stdout",
     "output_type": "stream",
     "text": [
      "Sample Text: <|eot_id|><|eot_id|><|eot_id|><|eot_id|><|eot_id|><|eot_id|><|eot_id|><|eot_id|><|eot_id|><|eot_id|><|eot_id|><|eot_id|><|eot_id|><|eot_id|><|eot_id|><|eot_id|><|eot_id|><|eot_id|><|eot_id|><|eot_id|><|eot_id|><|eot_id|><|eot_id|><|eot_id|><|eot_id|><|eot_id|><|eot_id|><|eot_id|><|eot_id|><|eot_id|><|eot_id|><|eot_id|><|eot_id|><|eot_id|><|eot_id|><|eot_id|><|eot_id|><|eot_id|><|eot_id|><|eot_id|><|eot_id|><|eot_id|><|eot_id|><|eot_id|><|eot_id|><|eot_id|><|eot_id|><|eot_id|><|eot_id|><|eot_id|><|eot_id|><|eot_id|><|begin_of_text|>Translate from de to en\n",
      "de: Ich gehe morgen ins Kino.; en: I am going to the cinema tomorrow.\n",
      "de: Er ist ein sehr guter Koch.; en: He is a very good cook.\n",
      "de: Wiederaufnahme der Sitzungsperiode; en: Resumption of\n",
      "Sample Text: <|eot_id|><|eot_id|><|eot_id|><|eot_id|><|eot_id|><|eot_id|><|eot_id|><|eot_id|><|eot_id|><|eot_id|><|eot_id|><|eot_id|><|eot_id|><|eot_id|><|eot_id|><|eot_id|><|eot_id|><|eot_id|><|eot_id|><|eot_id|><|eot_id|><|eot_id|><|eot_id|><|eot_id|><|eot_id|><|eot_id|><|eot_id|><|eot_id|><|eot_id|><|eot_id|><|eot_id|><|eot_id|><|eot_id|><|eot_id|><|eot_id|><|eot_id|><|eot_id|><|begin_of_text|>Translate from de to en\n",
      "de: Ich gehe morgen ins Kino.; en: I am going to the cinema tomorrow.\n",
      "de: Er ist ein sehr guter Koch.; en: He is a very good cook.\n",
      "de: Im Parlament besteht der Wunsch nach einer Aussprache im Verlauf dieser Sitzungsperiode in den nächsten Tagen.; en: You have requested\n"
     ]
    }
   ],
   "source": [
    "batch= next(iter(dl))\n",
    "\n",
    "print(f\"Sample Text: {tokenizer.decode(batch[0].tolist())}\")\n",
    "print(f\"Sample Text: {tokenizer.decode(batch[3].tolist())}\")"
   ]
  },
  {
   "cell_type": "code",
   "execution_count": 10,
   "id": "c4085311",
   "metadata": {},
   "outputs": [],
   "source": [
    "for i, batch in enumerate(dl):\n",
    "    pass"
   ]
  },
  {
   "cell_type": "code",
   "execution_count": null,
   "id": "e9e5c8e2",
   "metadata": {},
   "outputs": [],
   "source": []
  }
 ],
 "metadata": {
  "kernelspec": {
   "display_name": "workspace",
   "language": "python",
   "name": "python3"
  },
  "language_info": {
   "codemirror_mode": {
    "name": "ipython",
    "version": 3
   },
   "file_extension": ".py",
   "mimetype": "text/x-python",
   "name": "python",
   "nbconvert_exporter": "python",
   "pygments_lexer": "ipython3",
   "version": "3.11.11"
  }
 },
 "nbformat": 4,
 "nbformat_minor": 5
}
